{
 "cells": [
  {
   "cell_type": "code",
   "execution_count": 12,
   "id": "bde89f50-fc7d-4a78-9cb0-b9371bbda3a7",
   "metadata": {
    "execution": {
     "iopub.execute_input": "2021-07-13T18:25:35.539336Z",
     "iopub.status.busy": "2021-07-13T18:25:35.538911Z",
     "iopub.status.idle": "2021-07-13T18:25:35.544220Z",
     "shell.execute_reply": "2021-07-13T18:25:35.543195Z",
     "shell.execute_reply.started": "2021-07-13T18:25:35.539295Z"
    },
    "tags": []
   },
   "outputs": [
    {
     "name": "stdout",
     "output_type": "stream",
     "text": [
      "world\n"
     ]
    }
   ],
   "source": [
    "print(\"world\")"
   ]
  }
 ],
 "metadata": {
  "kernelspec": {
   "display_name": "Python 3",
   "language": "python",
   "name": "python3"
  },
  "language_info": {
   "codemirror_mode": {
    "name": "ipython",
    "version": 3
   },
   "file_extension": ".py",
   "mimetype": "text/x-python",
   "name": "python",
   "nbconvert_exporter": "python",
   "pygments_lexer": "ipython3",
   "version": "3.9.5"
  },
  "toc-showcode": false
 },
 "nbformat": 4,
 "nbformat_minor": 5
}
