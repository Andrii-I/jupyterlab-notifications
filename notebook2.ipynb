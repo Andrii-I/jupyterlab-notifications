{
 "cells": [
  {
   "cell_type": "code",
   "execution_count": 2,
   "id": "bde89f50-fc7d-4a78-9cb0-b9371bbda3a7",
   "metadata": {
    "execution": {
     "iopub.execute_input": "2021-07-12T19:10:50.666255Z",
     "iopub.status.busy": "2021-07-12T19:10:50.665308Z",
     "iopub.status.idle": "2021-07-12T19:10:50.718992Z",
     "shell.execute_reply": "2021-07-12T19:10:50.714848Z",
     "shell.execute_reply.started": "2021-07-12T19:10:50.666083Z"
    },
    "tags": []
   },
   "outputs": [
    {
     "name": "stdout",
     "output_type": "stream",
     "text": [
      "world\n"
     ]
    }
   ],
   "source": [
    "print(\"world\")"
   ]
  }
 ],
 "metadata": {
  "kernelspec": {
   "display_name": "Python 3",
   "language": "python",
   "name": "python3"
  },
  "language_info": {
   "codemirror_mode": {
    "name": "ipython",
    "version": 3
   },
   "file_extension": ".py",
   "mimetype": "text/x-python",
   "name": "python",
   "nbconvert_exporter": "python",
   "pygments_lexer": "ipython3",
   "version": "3.9.5"
  },
  "toc-showcode": false
 },
 "nbformat": 4,
 "nbformat_minor": 5
}
