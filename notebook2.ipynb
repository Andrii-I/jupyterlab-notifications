{
 "cells": [
  {
   "cell_type": "code",
   "execution_count": 1,
   "id": "bde89f50-fc7d-4a78-9cb0-b9371bbda3a7",
   "metadata": {
    "execution": {
     "iopub.execute_input": "2021-07-08T22:47:25.168818Z",
     "iopub.status.busy": "2021-07-08T22:47:25.168564Z",
     "iopub.status.idle": "2021-07-08T22:47:25.174855Z",
     "shell.execute_reply": "2021-07-08T22:47:25.173809Z",
     "shell.execute_reply.started": "2021-07-08T22:47:25.168761Z"
    },
    "tags": []
   },
   "outputs": [
    {
     "name": "stdout",
     "output_type": "stream",
     "text": [
      "world\n"
     ]
    }
   ],
   "source": [
    "print(\"world\")"
   ]
  }
 ],
 "metadata": {
  "kernelspec": {
   "display_name": "Python 3",
   "language": "python",
   "name": "python3"
  },
  "language_info": {
   "codemirror_mode": {
    "name": "ipython",
    "version": 3
   },
   "file_extension": ".py",
   "mimetype": "text/x-python",
   "name": "python",
   "nbconvert_exporter": "python",
   "pygments_lexer": "ipython3",
   "version": "3.9.5"
  },
  "toc-showcode": false
 },
 "nbformat": 4,
 "nbformat_minor": 5
}
