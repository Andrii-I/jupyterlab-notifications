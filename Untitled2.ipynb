{
 "cells": [
  {
   "cell_type": "code",
   "execution_count": null,
   "id": "4373640f-76d2-49ff-b66a-4f030e48158b",
   "metadata": {},
   "outputs": [],
   "source": [
    "prinnsdinohuioenioh"
   ]
  },
  {
   "cell_type": "code",
   "execution_count": 1,
   "id": "791c2ab0-54cd-4316-ac59-b8e70e628546",
   "metadata": {
    "execution": {
     "iopub.execute_input": "2021-08-14T01:58:26.228099Z",
     "iopub.status.busy": "2021-08-14T01:58:26.227844Z",
     "iopub.status.idle": "2021-08-14T01:58:26.233904Z",
     "shell.execute_reply": "2021-08-14T01:58:26.232580Z",
     "shell.execute_reply.started": "2021-08-14T01:58:26.228051Z"
    },
    "tags": []
   },
   "outputs": [
    {
     "name": "stdout",
     "output_type": "stream",
     "text": [
      "bhlue\n"
     ]
    }
   ],
   "source": [
    "print(\"bhlue\")"
   ]
  }
 ],
 "metadata": {
  "kernelspec": {
   "display_name": "Python 3",
   "language": "python",
   "name": "python3"
  },
  "language_info": {
   "codemirror_mode": {
    "name": "ipython",
    "version": 3
   },
   "file_extension": ".py",
   "mimetype": "text/x-python",
   "name": "python",
   "nbconvert_exporter": "python",
   "pygments_lexer": "ipython3",
   "version": "3.9.5"
  }
 },
 "nbformat": 4,
 "nbformat_minor": 5
}
